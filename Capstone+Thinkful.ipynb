{
 "cells": [
  {
   "cell_type": "markdown",
   "metadata": {
    "collapsed": true
   },
   "source": [
    "The Housing and Urban Devolpment is a government orginization that aids those in need to find affordable housing, This dat set is a collection of their listing and related information based on it such as region, price, and rooms. The Region corresponds to each division of the USA into 4 geogrpahic regions. This data comes form the US Housing Devolpment site info on thier affordable housing from the year 2013, in Today's age real estate is still considered one of the safiest investment ideas. "
   ]
  },
  {
   "cell_type": "markdown",
   "metadata": {},
   "source": [
    "Download neccessary libraries and define data frame"
   ]
  },
  {
   "cell_type": "code",
   "execution_count": 3,
   "metadata": {
    "collapsed": false
   },
   "outputs": [],
   "source": [
    "import pandas as pd\n",
    "import numpy as np\n",
    "import matplotlib.pyplot as plt\n",
    "df = pd.read_csv('C:/Users/JR/AppData/Thinkful/HADs2013.csv')\n",
    "%matplotlib inline"
   ]
  },
  {
   "cell_type": "code",
   "execution_count": 3,
   "metadata": {
    "collapsed": false
   },
   "outputs": [
    {
     "name": "stdout",
     "output_type": "stream",
     "text": [
      "          CONTROL  AGE1 METRO3 REGION   LMED   FMR    L30    L50    L80  \\\n",
      "0  '100003130103'    82    '3'    '1'  73738   956  15738  26213  40322   \n",
      "1  '100006110249'    50    '5'    '3'  55846  1100  17165  28604  45744   \n",
      "2  '100006370140'    53    '5'    '3'  55846  1100  13750  22897  36614   \n",
      "3  '100006520140'    67    '5'    '3'  55846   949  13750  22897  36614   \n",
      "4  '100007130148'    26    '1'    '3'  60991   737  14801  24628  39421   \n",
      "5  '100007390148'    56    '2'    '3'  62066   657  13170  21924  35073   \n",
      "6  '100007540148'    50    '1'    '3'  60991   988  16646  27713  44340   \n",
      "7  '100008700141'    26    '4'    '4'  52322   773  13489  22471  35929   \n",
      "8  '100008960141'    60    '5'    '4'  50296  1125  13115  21859  34939   \n",
      "9  '100009170148'    26    '4'    '2'  63221   552  13338  22199  35501   \n",
      "\n",
      "    IPOV    ...          FMTINCRELFMRCAT  FMTCOST06RELAMICAT  \\\n",
      "0  11067    ...          '1 LTE 50% FMR'    '2 30 - 50% AMI'   \n",
      "1  24218    ...               '3 GT FMR'    '4 60 - 80% AMI'   \n",
      "2  15470    ...      '2 50.1 - 100% FMR'    '4 60 - 80% AMI'   \n",
      "3  13964    ...      '2 50.1 - 100% FMR'  '6 100 - 120% AMI'   \n",
      "4  15492    ...               '3 GT FMR'    '3 50 - 60% AMI'   \n",
      "5  12005    ...      '2 50.1 - 100% FMR'    '3 50 - 60% AMI'   \n",
      "6  18050    ...               '3 GT FMR'      '7 120% AMI +'   \n",
      "7  15992    ...               '3 GT FMR'    '4 60 - 80% AMI'   \n",
      "8  15452    ...               '3 GT FMR'  '6 100 - 120% AMI'   \n",
      "9  12005    ...               '3 GT FMR'   '5 80 - 100% AMI'   \n",
      "\n",
      "   FMTCOST08RELAMICAT  FMTCOST12RELAMICAT  FMTCOSTMEDRELAMICAT  \\\n",
      "0    '2 30 - 50% AMI'    '2 30 - 50% AMI'     '2 30 - 50% AMI'   \n",
      "1    '4 60 - 80% AMI'  '6 100 - 120% AMI'     '4 60 - 80% AMI'   \n",
      "2   '5 80 - 100% AMI'  '6 100 - 120% AMI'     '4 60 - 80% AMI'   \n",
      "3      '7 120% AMI +'      '7 120% AMI +'    '5 80 - 100% AMI'   \n",
      "4    '3 50 - 60% AMI'    '3 50 - 60% AMI'     '3 50 - 60% AMI'   \n",
      "5    '3 50 - 60% AMI'    '3 50 - 60% AMI'     '3 50 - 60% AMI'   \n",
      "6      '7 120% AMI +'      '7 120% AMI +'   '6 100 - 120% AMI'   \n",
      "7    '4 60 - 80% AMI'    '4 60 - 80% AMI'     '4 60 - 80% AMI'   \n",
      "8  '6 100 - 120% AMI'      '7 120% AMI +'    '5 80 - 100% AMI'   \n",
      "9   '5 80 - 100% AMI'   '5 80 - 100% AMI'    '5 80 - 100% AMI'   \n",
      "\n",
      "      FMTINCRELAMICAT       FMTASSISTED          FMTBURDEN  FMTREGION  \\\n",
      "0    '2 30 - 50% AMI'               '.'     '2 30% to 50%'       '-5'   \n",
      "1      '7 120% AMI +'               '.'  '1 Less than 30%'       '-5'   \n",
      "2    '4 60 - 80% AMI'               '.'    '3 50% or More'       '-5'   \n",
      "3    '4 60 - 80% AMI'               '.'  '1 Less than 30%'       '-5'   \n",
      "4      '7 120% AMI +'  '0 Not Assisted'  '1 Less than 30%'       '-5'   \n",
      "5    '2 30 - 50% AMI'      '1 Assisted'    '3 50% or More'       '-5'   \n",
      "6      '7 120% AMI +'               '.'  '1 Less than 30%'       '-5'   \n",
      "7    '4 60 - 80% AMI'  '0 Not Assisted'     '2 30% to 50%'     'West'   \n",
      "8      '7 120% AMI +'               '.'  '1 Less than 30%'     'West'   \n",
      "9  '6 100 - 120% AMI'  '0 Not Assisted'  '1 Less than 30%'       '-5'   \n",
      "\n",
      "   FMTSTATUS  \n",
      "0       '-5'  \n",
      "1       '-5'  \n",
      "2       '-5'  \n",
      "3       '-5'  \n",
      "4       '-5'  \n",
      "5       '-5'  \n",
      "6       '-5'  \n",
      "7       '-5'  \n",
      "8       '-5'  \n",
      "9       '-5'  \n",
      "\n",
      "[10 rows x 99 columns]\n"
     ]
    }
   ],
   "source": [
    "print (df.head(10))"
   ]
  },
  {
   "cell_type": "markdown",
   "metadata": {},
   "source": [
    "Here is an introductury look at the data that is somewhat messy, lets clean this up by eliminating some none relevant info for this analysis going forward. We will limit the Data to the Region, Number of bedrooms, It's build year, Number of rooms, value, Utility Cost and Other Cost. We also need to remove any negative value in the value column. In context the negative values are properties that are more expensive then their values indicated. Let's also limit the data to make it easier to make conclusions by limiting it to places that have less than 3 bedrooms and after 2000. This makes it more relevant to modern uses, selecting less then 3 because most of those in need using the HUD will not need more than three bedrooms."
   ]
  },
  {
   "cell_type": "code",
   "execution_count": 199,
   "metadata": {
    "collapsed": false
   },
   "outputs": [
    {
     "name": "stdout",
     "output_type": "stream",
     "text": [
      "    REGION  BEDRMS  BUILT   VALUE  ROOMS     UTILITY   OTHERCOST\n",
      "0      '1'       2   2006   40000      6  169.000000  213.750000\n",
      "20     '4'       2   2004   60000      6   65.000000   40.000000\n",
      "21     '4'       2   2003   40000      4  109.000000    8.750000\n",
      "32     '3'       2   2004  150000      7  148.666667   50.000000\n",
      "49     '1'       2   2007  850000      4  310.000000   66.666667\n",
      "64     '2'       2   2003  110000      4  102.500000   89.333333\n",
      "102    '4'       0   2006  200000      2   54.000000  360.000000\n",
      "116    '4'       2   2007  330000      4  109.000000  356.250000\n",
      "117    '4'       2   2007  300000      4  152.000000  122.916667\n",
      "171    '2'       2   2008  120000      4   82.833333   41.666667\n"
     ]
    }
   ],
   "source": [
    "cdf = df.ix[:,[3,10,11,14,18, 26, 27]]\n",
    "cdf = cdf[cdf.VALUE > 0]\n",
    "cdf = cdf[cdf.BEDRMS < 3]\n",
    "cdf = cdf[cdf.BUILT > 2000]\n",
    "print (cdf.head(10))"
   ]
  },
  {
   "cell_type": "markdown",
   "metadata": {},
   "source": [
    "Now that we have a more workable data frame lets start by comparing Bedrooms to value and see if their is a relationship."
   ]
  },
  {
   "cell_type": "code",
   "execution_count": 205,
   "metadata": {
    "collapsed": false,
    "scrolled": true
   },
   "outputs": [
    {
     "data": {
      "text/html": [
       "<div>\n",
       "<table border=\"1\" class=\"dataframe\">\n",
       "  <thead>\n",
       "    <tr style=\"text-align: right;\">\n",
       "      <th></th>\n",
       "      <th>BUILT</th>\n",
       "      <th>VALUE</th>\n",
       "      <th>ROOMS</th>\n",
       "      <th>UTILITY</th>\n",
       "      <th>OTHERCOST</th>\n",
       "      <th>TOTAL_COST</th>\n",
       "    </tr>\n",
       "    <tr>\n",
       "      <th>BEDRMS</th>\n",
       "      <th></th>\n",
       "      <th></th>\n",
       "      <th></th>\n",
       "      <th></th>\n",
       "      <th></th>\n",
       "      <th></th>\n",
       "    </tr>\n",
       "  </thead>\n",
       "  <tbody>\n",
       "    <tr>\n",
       "      <th>0</th>\n",
       "      <td>2007.750000</td>\n",
       "      <td>135000.000000</td>\n",
       "      <td>2.000000</td>\n",
       "      <td>35.750000</td>\n",
       "      <td>120.000000</td>\n",
       "      <td>155.750000</td>\n",
       "    </tr>\n",
       "    <tr>\n",
       "      <th>1</th>\n",
       "      <td>2005.275862</td>\n",
       "      <td>211379.327586</td>\n",
       "      <td>3.224138</td>\n",
       "      <td>108.508621</td>\n",
       "      <td>173.860632</td>\n",
       "      <td>282.369253</td>\n",
       "    </tr>\n",
       "    <tr>\n",
       "      <th>2</th>\n",
       "      <td>2005.100592</td>\n",
       "      <td>209289.954635</td>\n",
       "      <td>4.932939</td>\n",
       "      <td>159.896285</td>\n",
       "      <td>202.053419</td>\n",
       "      <td>361.949704</td>\n",
       "    </tr>\n",
       "  </tbody>\n",
       "</table>\n",
       "</div>"
      ],
      "text/plain": [
       "              BUILT          VALUE     ROOMS     UTILITY   OTHERCOST  \\\n",
       "BEDRMS                                                                 \n",
       "0       2007.750000  135000.000000  2.000000   35.750000  120.000000   \n",
       "1       2005.275862  211379.327586  3.224138  108.508621  173.860632   \n",
       "2       2005.100592  209289.954635  4.932939  159.896285  202.053419   \n",
       "\n",
       "        TOTAL_COST  \n",
       "BEDRMS              \n",
       "0       155.750000  \n",
       "1       282.369253  \n",
       "2       361.949704  "
      ]
     },
     "execution_count": 205,
     "metadata": {},
     "output_type": "execute_result"
    }
   ],
   "source": [
    "cdf.groupby('BEDRMS').mean()"
   ]
  },
  {
   "cell_type": "code",
   "execution_count": 204,
   "metadata": {
    "collapsed": false
   },
   "outputs": [
    {
     "data": {
      "text/plain": [
       "<matplotlib.collections.PathCollection at 0xffd2e70>"
      ]
     },
     "execution_count": 204,
     "metadata": {},
     "output_type": "execute_result"
    },
    {
     "data": {
      "image/png": "[encoded data removed]",
      "text/plain": [
       "<matplotlib.figure.Figure at 0xf83c0f0>"
      ]
     },
     "metadata": {},
     "output_type": "display_data"
    }
   ],
   "source": [
    "plt.scatter(x = cdf['ROOMS'], y = cdf['UTILITY'], color = 'red')"
   ]
  },
  {
   "cell_type": "markdown",
   "metadata": {},
   "source": [
    "Unsupringly as the amount of rooms increase the cost of Utilites increases as well, but does other costs factor in as well. The zero bedroom/ Studio are the most recently build so let's examine those a little bit further.  a question for further analysis is does the Year built affect the price of it depending on the region?"
   ]
  },
  {
   "cell_type": "code",
   "execution_count": 194,
   "metadata": {
    "collapsed": false
   },
   "outputs": [
    {
     "data": {
      "text/html": [
       "<div>\n",
       "<table border=\"1\" class=\"dataframe\">\n",
       "  <thead>\n",
       "    <tr style=\"text-align: right;\">\n",
       "      <th></th>\n",
       "      <th>BEDRMS</th>\n",
       "      <th>BUILT</th>\n",
       "      <th>VALUE</th>\n",
       "      <th>ROOMS</th>\n",
       "      <th>UTILITY</th>\n",
       "      <th>OTHERCOST</th>\n",
       "      <th>TOTAL_COST</th>\n",
       "    </tr>\n",
       "    <tr>\n",
       "      <th>REGION</th>\n",
       "      <th></th>\n",
       "      <th></th>\n",
       "      <th></th>\n",
       "      <th></th>\n",
       "      <th></th>\n",
       "      <th></th>\n",
       "      <th></th>\n",
       "    </tr>\n",
       "  </thead>\n",
       "  <tbody>\n",
       "    <tr>\n",
       "      <th>'1'</th>\n",
       "      <td>102</td>\n",
       "      <td>102</td>\n",
       "      <td>102</td>\n",
       "      <td>102</td>\n",
       "      <td>102</td>\n",
       "      <td>102</td>\n",
       "      <td>102</td>\n",
       "    </tr>\n",
       "    <tr>\n",
       "      <th>'2'</th>\n",
       "      <td>160</td>\n",
       "      <td>160</td>\n",
       "      <td>160</td>\n",
       "      <td>160</td>\n",
       "      <td>160</td>\n",
       "      <td>160</td>\n",
       "      <td>160</td>\n",
       "    </tr>\n",
       "    <tr>\n",
       "      <th>'3'</th>\n",
       "      <td>190</td>\n",
       "      <td>190</td>\n",
       "      <td>190</td>\n",
       "      <td>190</td>\n",
       "      <td>190</td>\n",
       "      <td>190</td>\n",
       "      <td>190</td>\n",
       "    </tr>\n",
       "    <tr>\n",
       "      <th>'4'</th>\n",
       "      <td>117</td>\n",
       "      <td>117</td>\n",
       "      <td>117</td>\n",
       "      <td>117</td>\n",
       "      <td>117</td>\n",
       "      <td>117</td>\n",
       "      <td>117</td>\n",
       "    </tr>\n",
       "  </tbody>\n",
       "</table>\n",
       "</div>"
      ],
      "text/plain": [
       "        BEDRMS  BUILT  VALUE  ROOMS  UTILITY  OTHERCOST  TOTAL_COST\n",
       "REGION                                                             \n",
       "'1'        102    102    102    102      102        102         102\n",
       "'2'        160    160    160    160      160        160         160\n",
       "'3'        190    190    190    190      190        190         190\n",
       "'4'        117    117    117    117      117        117         117"
      ]
     },
     "execution_count": 194,
     "metadata": {},
     "output_type": "execute_result"
    }
   ],
   "source": [
    "cdf.groupby('REGION').count()"
   ]
  },
  {
   "cell_type": "markdown",
   "metadata": {},
   "source": [
    "Region 3 has the largest amount of construcion done in this time frame. Which is the Southwest region meaning that the southwest had a large amount of Urban devolpment planning from 2000 onwards. A Question for further analysis is to ask if the different regions have different protiorites for building such as region needing more 1 or 2 bedroom houses? Let's look at each region and see if the Utilities cost more per region, let's also combine Other cost with utlities to get total cost."
   ]
  },
  {
   "cell_type": "code",
   "execution_count": 220,
   "metadata": {
    "collapsed": false
   },
   "outputs": [],
   "source": [
    "cdf['TOTAL_COST'] = cdf['UTILITY'] + cdf['OTHERCOST']"
   ]
  },
  {
   "cell_type": "markdown",
   "metadata": {},
   "source": [
    "With Total cost let's ask one last question about value compared to the total cost and see how they are related."
   ]
  },
  {
   "cell_type": "code",
   "execution_count": 219,
   "metadata": {
    "collapsed": false
   },
   "outputs": [
    {
     "data": {
      "text/plain": [
       "(array([ 127.,  237.,  144.,   39.,    8.,    1.,    1.,    0.,    9.,    3.]),\n",
       " array([    0.        ,   189.33333333,   378.66666666,   567.99999999,\n",
       "          757.33333332,   946.66666665,  1135.99999998,  1325.33333331,\n",
       "         1514.66666664,  1703.99999997,  1893.3333333 ]),\n",
       " <a list of 10 Patch objects>)"
      ]
     },
     "execution_count": 219,
     "metadata": {},
     "output_type": "execute_result"
    },
    {
     "data": {
      "image/png": "[encoded data removed]",
      "text/plain": [
       "<matplotlib.figure.Figure at 0x88981f0>"
      ]
     },
     "metadata": {},
     "output_type": "display_data"
    }
   ],
   "source": [
    "plt.hist(cdf['TOTAL_COST'])"
   ]
  },
  {
   "cell_type": "markdown",
   "metadata": {},
   "source": [
    "We can see a generalized value for Total cost that shows most fall within a normalized range with a few outliers near the outrageous end. A further question for Analysis is what causes those Outliers."
   ]
  },
  {
   "cell_type": "code",
   "execution_count": 224,
   "metadata": {
    "collapsed": false
   },
   "outputs": [
    {
     "data": {
      "text/html": [
       "<div>\n",
       "<table border=\"1\" class=\"dataframe\">\n",
       "  <thead>\n",
       "    <tr style=\"text-align: right;\">\n",
       "      <th></th>\n",
       "      <th>BEDRMS</th>\n",
       "      <th>BUILT</th>\n",
       "      <th>VALUE</th>\n",
       "      <th>ROOMS</th>\n",
       "      <th>UTILITY</th>\n",
       "      <th>OTHERCOST</th>\n",
       "      <th>TOTAL_COST</th>\n",
       "    </tr>\n",
       "    <tr>\n",
       "      <th>REGION</th>\n",
       "      <th></th>\n",
       "      <th></th>\n",
       "      <th></th>\n",
       "      <th></th>\n",
       "      <th></th>\n",
       "      <th></th>\n",
       "      <th></th>\n",
       "    </tr>\n",
       "  </thead>\n",
       "  <tbody>\n",
       "    <tr>\n",
       "      <th>'1'</th>\n",
       "      <td>2</td>\n",
       "      <td>2</td>\n",
       "      <td>2</td>\n",
       "      <td>2</td>\n",
       "      <td>2</td>\n",
       "      <td>2</td>\n",
       "      <td>2</td>\n",
       "    </tr>\n",
       "    <tr>\n",
       "      <th>'2'</th>\n",
       "      <td>5</td>\n",
       "      <td>5</td>\n",
       "      <td>5</td>\n",
       "      <td>5</td>\n",
       "      <td>5</td>\n",
       "      <td>5</td>\n",
       "      <td>5</td>\n",
       "    </tr>\n",
       "    <tr>\n",
       "      <th>'3'</th>\n",
       "      <td>3</td>\n",
       "      <td>3</td>\n",
       "      <td>3</td>\n",
       "      <td>3</td>\n",
       "      <td>3</td>\n",
       "      <td>3</td>\n",
       "      <td>3</td>\n",
       "    </tr>\n",
       "    <tr>\n",
       "      <th>'4'</th>\n",
       "      <td>2</td>\n",
       "      <td>2</td>\n",
       "      <td>2</td>\n",
       "      <td>2</td>\n",
       "      <td>2</td>\n",
       "      <td>2</td>\n",
       "      <td>2</td>\n",
       "    </tr>\n",
       "  </tbody>\n",
       "</table>\n",
       "</div>"
      ],
      "text/plain": [
       "        BEDRMS  BUILT  VALUE  ROOMS  UTILITY  OTHERCOST  TOTAL_COST\n",
       "REGION                                                             \n",
       "'1'          2      2      2      2        2          2           2\n",
       "'2'          5      5      5      5        5          5           5\n",
       "'3'          3      3      3      3        3          3           3\n",
       "'4'          2      2      2      2        2          2           2"
      ]
     },
     "execution_count": 224,
     "metadata": {},
     "output_type": "execute_result"
    }
   ],
   "source": [
    "ETCcdf = cdf[cdf.TOTAL_COST > 1500]\n",
    "ETCcdf.groupby('REGION').count()"
   ]
  },
  {
   "cell_type": "markdown",
   "metadata": {},
   "source": [
    "Region Doesn't seem to be affecting the total cost or the total amount of rooms so this could be further investigated to figure out what causes these 12 places to be so expensive."
   ]
  },
  {
   "cell_type": "markdown",
   "metadata": {},
   "source": [
    "In Conclusion we Discovered the relationship between the price of Utilites and the number of rooms in a living area, along with the area with the largest growth area and theroized a possible solution, Finally we looked at Total cost extra and the amount of Rooms and discovered a few questions that could be analyzed further. "
   ]
  }
 ],
 "metadata": {
  "kernelspec": {
   "display_name": "Python 3",
   "language": "python",
   "name": "python3"
  },
  "language_info": {
   "codemirror_mode": {
    "name": "ipython",
    "version": 3
   },
   "file_extension": ".py",
   "mimetype": "text/x-python",
   "name": "python",
   "nbconvert_exporter": "python",
   "pygments_lexer": "ipython3",
   "version": "3.6.0"
  }
 },
 "nbformat": 4,
 "nbformat_minor": 2
}
