{
 "cells": [
  {
   "cell_type": "markdown",
   "metadata": {},
   "source": [
    "# Intro"
   ]
  },
  {
   "cell_type": "markdown",
   "metadata": {},
   "source": [
    "Basketball is currently going through a modern renaissance as the three and key revolution is becoming more common in basketball, this style called Morey Ball by some is becoming common place but the question we can ask is does it make a difference in the game itself and are players actually listening and following this trend we will look at this through a multitude of series focusing on playoff teams. We will be looking at two of my favorite player and finding out if one is truly a system player the other is just a glorified 3 and D player and then looking at a New York favorite to see if he is worth all the money and attention he gets. We will be looking at their field goal percentages and then one unique analysis of each individual. We will look at all of their individual field goal percentages and where they shoot from and then go into unique tests for each of them."
   ]
  },
  {
   "cell_type": "markdown",
   "metadata": {},
   "source": [
    "## Clean up \n"
   ]
  },
  {
   "cell_type": "code",
   "execution_count": 8,
   "metadata": {
    "collapsed": false
   },
   "outputs": [],
   "source": [
    "import pandas as pd \n",
    "import numpy as np\n",
    "import matplotlib.pyplot as plt\n",
    "df = pd.read_csv('C:/Users/JR/Downloads/nba-shot-logs/shot_logs.csv')\n",
    "%matplotlib inline\n",
    "del df['MATCHUP']\n",
    "del df['GAME_ID']\n",
    "del df['LOCATION']\n",
    "del df['W']\n",
    "del df['FINAL_MARGIN']\n",
    "Kawhidf = df[df.player_id == 202695]\n",
    "Klaydf = df[df.player_id == 202691]\n",
    "Melodf = df[df.player_id == 2546]"
   ]
  },
  {
   "cell_type": "markdown",
   "metadata": {},
   "source": [
    "# Analysis "
   ]
  },
  {
   "cell_type": "markdown",
   "metadata": {},
   "source": [
    "## First question:  Kawhi \"The Klaw\" Leonard"
   ]
  },
  {
   "cell_type": "markdown",
   "metadata": {},
   "source": [
    "Kawhi has established himself as a premier player in the NBA and we will see if his greatness is part of the spurs system where players get open shots and doesn't hold the ball. I believe that he is not a product of the system is just a great player that is helped by his team. We look at how long he holds the ball before he shoots how often he has open shots and his overall field goal percentage to try and guage if he just looks good because he is open."
   ]
  },
  {
   "cell_type": "code",
   "execution_count": 9,
   "metadata": {
    "collapsed": false
   },
   "outputs": [
    {
     "data": {
      "text/plain": [
       "<matplotlib.text.Text at 0x79b66f0>"
      ]
     },
     "execution_count": 9,
     "metadata": {},
     "output_type": "execute_result"
    },
    {
     "data": {
      "image/png": "[encoded data removed]",
      "text/plain": [
       "<matplotlib.figure.Figure at 0x7bd6490>"
      ]
     },
     "metadata": {},
     "output_type": "display_data"
    }
   ],
   "source": [
    "plt.hist(Kawhidf['DRIBBLES'])\n",
    "plt.xlabel('Number of Dribbles')\n",
    "plt.ylabel('Frequency of Shot')"
   ]
  },
  {
   "cell_type": "markdown",
   "metadata": {},
   "source": [
    "Here we see that almost all of his shots happen within 3 dribbles which is indicative of the Spurs system which is a Princeton style offense with Flow elements that mean always searching for the open pass, this means that his greatness could be attributed to the system but let's see though if the distance of the closest defender is why he doesn't dribble,  Within Basketball a \"open shot\" is considered so when a defender is over 5 feet away let's use that as the parameter for the amount of shots he took."
   ]
  },
  {
   "cell_type": "code",
   "execution_count": 10,
   "metadata": {
    "collapsed": false
   },
   "outputs": [
    {
     "data": {
      "text/html": [
       "<div>\n",
       "<table border=\"1\" class=\"dataframe\">\n",
       "  <thead>\n",
       "    <tr style=\"text-align: right;\">\n",
       "      <th></th>\n",
       "      <th>SHOT_NUMBER</th>\n",
       "      <th>PERIOD</th>\n",
       "      <th>GAME_CLOCK</th>\n",
       "      <th>SHOT_CLOCK</th>\n",
       "      <th>DRIBBLES</th>\n",
       "      <th>TOUCH_TIME</th>\n",
       "      <th>SHOT_DIST</th>\n",
       "      <th>PTS_TYPE</th>\n",
       "      <th>CLOSEST_DEFENDER</th>\n",
       "      <th>CLOSEST_DEFENDER_PLAYER_ID</th>\n",
       "      <th>CLOSE_DEF_DIST</th>\n",
       "      <th>FGM</th>\n",
       "      <th>PTS</th>\n",
       "      <th>player_name</th>\n",
       "      <th>player_id</th>\n",
       "    </tr>\n",
       "    <tr>\n",
       "      <th>SHOT_RESULT</th>\n",
       "      <th></th>\n",
       "      <th></th>\n",
       "      <th></th>\n",
       "      <th></th>\n",
       "      <th></th>\n",
       "      <th></th>\n",
       "      <th></th>\n",
       "      <th></th>\n",
       "      <th></th>\n",
       "      <th></th>\n",
       "      <th></th>\n",
       "      <th></th>\n",
       "      <th></th>\n",
       "      <th></th>\n",
       "      <th></th>\n",
       "    </tr>\n",
       "  </thead>\n",
       "  <tbody>\n",
       "    <tr>\n",
       "      <th>made</th>\n",
       "      <td>72</td>\n",
       "      <td>72</td>\n",
       "      <td>72</td>\n",
       "      <td>70</td>\n",
       "      <td>72</td>\n",
       "      <td>72</td>\n",
       "      <td>72</td>\n",
       "      <td>72</td>\n",
       "      <td>72</td>\n",
       "      <td>72</td>\n",
       "      <td>72</td>\n",
       "      <td>72</td>\n",
       "      <td>72</td>\n",
       "      <td>72</td>\n",
       "      <td>72</td>\n",
       "    </tr>\n",
       "    <tr>\n",
       "      <th>missed</th>\n",
       "      <td>109</td>\n",
       "      <td>109</td>\n",
       "      <td>109</td>\n",
       "      <td>106</td>\n",
       "      <td>109</td>\n",
       "      <td>109</td>\n",
       "      <td>109</td>\n",
       "      <td>109</td>\n",
       "      <td>109</td>\n",
       "      <td>109</td>\n",
       "      <td>109</td>\n",
       "      <td>109</td>\n",
       "      <td>109</td>\n",
       "      <td>109</td>\n",
       "      <td>109</td>\n",
       "    </tr>\n",
       "  </tbody>\n",
       "</table>\n",
       "</div>"
      ],
      "text/plain": [
       "             SHOT_NUMBER  PERIOD  GAME_CLOCK  SHOT_CLOCK  DRIBBLES  \\\n",
       "SHOT_RESULT                                                          \n",
       "made                  72      72          72          70        72   \n",
       "missed               109     109         109         106       109   \n",
       "\n",
       "             TOUCH_TIME  SHOT_DIST  PTS_TYPE  CLOSEST_DEFENDER  \\\n",
       "SHOT_RESULT                                                      \n",
       "made                 72         72        72                72   \n",
       "missed              109        109       109               109   \n",
       "\n",
       "             CLOSEST_DEFENDER_PLAYER_ID  CLOSE_DEF_DIST  FGM  PTS  \\\n",
       "SHOT_RESULT                                                         \n",
       "made                                 72              72   72   72   \n",
       "missed                              109             109  109  109   \n",
       "\n",
       "             player_name  player_id  \n",
       "SHOT_RESULT                          \n",
       "made                  72         72  \n",
       "missed               109        109  "
      ]
     },
     "execution_count": 10,
     "metadata": {},
     "output_type": "execute_result"
    },
    {
     "data": {
      "image/png": "[encoded data removed]",
      "text/plain": [
       "<matplotlib.figure.Figure at 0x79b6ff0>"
      ]
     },
     "metadata": {},
     "output_type": "display_data"
    }
   ],
   "source": [
    "defKawhidf = Kawhidf[Kawhidf. CLOSE_DEF_DIST > 5 ] \n",
    "defKawhimadedf = defKawhidf[defKawhidf. SHOT_RESULT == 'made']\n",
    "defKawhimissdf = defKawhidf[defKawhidf. SHOT_RESULT == 'missed']\n",
    "plt.scatter(x = defKawhimadedf['TOUCH_TIME'], y = defKawhimadedf['SHOT_DIST'], color = 'Green')\n",
    "plt.scatter(x = defKawhimissdf['TOUCH_TIME'], y = defKawhimissdf['SHOT_DIST'], color = 'blue')\n",
    "plt.xlabel('Time Holding Ball')\n",
    "plt.ylabel('Shot Distance')\n",
    "defKawhidf.groupby ('SHOT_RESULT').count()"
   ]
  },
  {
   "cell_type": "markdown",
   "metadata": {},
   "source": [
    "With that we see that most of his open shots happen with him holding the ball for less than five seconds and that he also makes around 66% of open shots, due to my love of Basketball I know the average for open shots is 55%, (Basketballref.com) so Kawhi shows that he shoots well above average compared to the average NBA player. This helps debunk that he is just a system player because he is over the average by a significant margin. However we will next just look at a simple measure to see if Kawhi is great, his field goal percentage."
   ]
  },
  {
   "cell_type": "code",
   "execution_count": 11,
   "metadata": {
    "collapsed": false
   },
   "outputs": [
    {
     "data": {
      "text/html": [
       "<div>\n",
       "<table border=\"1\" class=\"dataframe\">\n",
       "  <thead>\n",
       "    <tr style=\"text-align: right;\">\n",
       "      <th></th>\n",
       "      <th>SHOT_NUMBER</th>\n",
       "      <th>PERIOD</th>\n",
       "      <th>GAME_CLOCK</th>\n",
       "      <th>SHOT_CLOCK</th>\n",
       "      <th>DRIBBLES</th>\n",
       "      <th>TOUCH_TIME</th>\n",
       "      <th>SHOT_DIST</th>\n",
       "      <th>PTS_TYPE</th>\n",
       "      <th>CLOSEST_DEFENDER</th>\n",
       "      <th>CLOSEST_DEFENDER_PLAYER_ID</th>\n",
       "      <th>CLOSE_DEF_DIST</th>\n",
       "      <th>FGM</th>\n",
       "      <th>PTS</th>\n",
       "      <th>player_name</th>\n",
       "      <th>player_id</th>\n",
       "    </tr>\n",
       "    <tr>\n",
       "      <th>SHOT_RESULT</th>\n",
       "      <th></th>\n",
       "      <th></th>\n",
       "      <th></th>\n",
       "      <th></th>\n",
       "      <th></th>\n",
       "      <th></th>\n",
       "      <th></th>\n",
       "      <th></th>\n",
       "      <th></th>\n",
       "      <th></th>\n",
       "      <th></th>\n",
       "      <th></th>\n",
       "      <th></th>\n",
       "      <th></th>\n",
       "      <th></th>\n",
       "    </tr>\n",
       "  </thead>\n",
       "  <tbody>\n",
       "    <tr>\n",
       "      <th>made</th>\n",
       "      <td>43</td>\n",
       "      <td>43</td>\n",
       "      <td>43</td>\n",
       "      <td>42</td>\n",
       "      <td>43</td>\n",
       "      <td>43</td>\n",
       "      <td>43</td>\n",
       "      <td>43</td>\n",
       "      <td>43</td>\n",
       "      <td>43</td>\n",
       "      <td>43</td>\n",
       "      <td>43</td>\n",
       "      <td>43</td>\n",
       "      <td>43</td>\n",
       "      <td>43</td>\n",
       "    </tr>\n",
       "    <tr>\n",
       "      <th>missed</th>\n",
       "      <td>89</td>\n",
       "      <td>89</td>\n",
       "      <td>89</td>\n",
       "      <td>86</td>\n",
       "      <td>89</td>\n",
       "      <td>89</td>\n",
       "      <td>89</td>\n",
       "      <td>89</td>\n",
       "      <td>89</td>\n",
       "      <td>89</td>\n",
       "      <td>89</td>\n",
       "      <td>89</td>\n",
       "      <td>89</td>\n",
       "      <td>89</td>\n",
       "      <td>89</td>\n",
       "    </tr>\n",
       "  </tbody>\n",
       "</table>\n",
       "</div>"
      ],
      "text/plain": [
       "             SHOT_NUMBER  PERIOD  GAME_CLOCK  SHOT_CLOCK  DRIBBLES  \\\n",
       "SHOT_RESULT                                                          \n",
       "made                  43      43          43          42        43   \n",
       "missed                89      89          89          86        89   \n",
       "\n",
       "             TOUCH_TIME  SHOT_DIST  PTS_TYPE  CLOSEST_DEFENDER  \\\n",
       "SHOT_RESULT                                                      \n",
       "made                 43         43        43                43   \n",
       "missed               89         89        89                89   \n",
       "\n",
       "             CLOSEST_DEFENDER_PLAYER_ID  CLOSE_DEF_DIST  FGM  PTS  \\\n",
       "SHOT_RESULT                                                         \n",
       "made                                 43              43   43   43   \n",
       "missed                               89              89   89   89   \n",
       "\n",
       "             player_name  player_id  \n",
       "SHOT_RESULT                          \n",
       "made                  43         43  \n",
       "missed                89         89  "
      ]
     },
     "execution_count": 11,
     "metadata": {},
     "output_type": "execute_result"
    }
   ],
   "source": [
    "threeKawhidf = Kawhidf[Kawhidf.PTS_TYPE == 3]\n",
    "twoKawhidf = Kawhidf[Kawhidf.PTS_TYPE == 2]\n",
    "threeKawhidf.groupby('SHOT_RESULT').count()"
   ]
  },
  {
   "cell_type": "code",
   "execution_count": 12,
   "metadata": {
    "collapsed": false
   },
   "outputs": [
    {
     "data": {
      "text/html": [
       "<div>\n",
       "<table border=\"1\" class=\"dataframe\">\n",
       "  <thead>\n",
       "    <tr style=\"text-align: right;\">\n",
       "      <th></th>\n",
       "      <th>SHOT_NUMBER</th>\n",
       "      <th>PERIOD</th>\n",
       "      <th>GAME_CLOCK</th>\n",
       "      <th>SHOT_CLOCK</th>\n",
       "      <th>DRIBBLES</th>\n",
       "      <th>TOUCH_TIME</th>\n",
       "      <th>SHOT_DIST</th>\n",
       "      <th>PTS_TYPE</th>\n",
       "      <th>CLOSEST_DEFENDER</th>\n",
       "      <th>CLOSEST_DEFENDER_PLAYER_ID</th>\n",
       "      <th>CLOSE_DEF_DIST</th>\n",
       "      <th>FGM</th>\n",
       "      <th>PTS</th>\n",
       "      <th>player_name</th>\n",
       "      <th>player_id</th>\n",
       "    </tr>\n",
       "    <tr>\n",
       "      <th>SHOT_RESULT</th>\n",
       "      <th></th>\n",
       "      <th></th>\n",
       "      <th></th>\n",
       "      <th></th>\n",
       "      <th></th>\n",
       "      <th></th>\n",
       "      <th></th>\n",
       "      <th></th>\n",
       "      <th></th>\n",
       "      <th></th>\n",
       "      <th></th>\n",
       "      <th></th>\n",
       "      <th></th>\n",
       "      <th></th>\n",
       "      <th></th>\n",
       "    </tr>\n",
       "  </thead>\n",
       "  <tbody>\n",
       "    <tr>\n",
       "      <th>made</th>\n",
       "      <td>232</td>\n",
       "      <td>232</td>\n",
       "      <td>232</td>\n",
       "      <td>224</td>\n",
       "      <td>232</td>\n",
       "      <td>232</td>\n",
       "      <td>232</td>\n",
       "      <td>232</td>\n",
       "      <td>232</td>\n",
       "      <td>232</td>\n",
       "      <td>232</td>\n",
       "      <td>232</td>\n",
       "      <td>232</td>\n",
       "      <td>232</td>\n",
       "      <td>232</td>\n",
       "    </tr>\n",
       "    <tr>\n",
       "      <th>missed</th>\n",
       "      <td>284</td>\n",
       "      <td>284</td>\n",
       "      <td>284</td>\n",
       "      <td>274</td>\n",
       "      <td>284</td>\n",
       "      <td>284</td>\n",
       "      <td>284</td>\n",
       "      <td>284</td>\n",
       "      <td>284</td>\n",
       "      <td>284</td>\n",
       "      <td>284</td>\n",
       "      <td>284</td>\n",
       "      <td>284</td>\n",
       "      <td>284</td>\n",
       "      <td>284</td>\n",
       "    </tr>\n",
       "  </tbody>\n",
       "</table>\n",
       "</div>"
      ],
      "text/plain": [
       "             SHOT_NUMBER  PERIOD  GAME_CLOCK  SHOT_CLOCK  DRIBBLES  \\\n",
       "SHOT_RESULT                                                          \n",
       "made                 232     232         232         224       232   \n",
       "missed               284     284         284         274       284   \n",
       "\n",
       "             TOUCH_TIME  SHOT_DIST  PTS_TYPE  CLOSEST_DEFENDER  \\\n",
       "SHOT_RESULT                                                      \n",
       "made                232        232       232               232   \n",
       "missed              284        284       284               284   \n",
       "\n",
       "             CLOSEST_DEFENDER_PLAYER_ID  CLOSE_DEF_DIST  FGM  PTS  \\\n",
       "SHOT_RESULT                                                         \n",
       "made                                232             232  232  232   \n",
       "missed                              284             284  284  284   \n",
       "\n",
       "             player_name  player_id  \n",
       "SHOT_RESULT                          \n",
       "made                 232        232  \n",
       "missed               284        284  "
      ]
     },
     "execution_count": 12,
     "metadata": {},
     "output_type": "execute_result"
    }
   ],
   "source": [
    "Kawhidf.groupby('SHOT_RESULT').count()"
   ]
  },
  {
   "cell_type": "markdown",
   "metadata": {},
   "source": [
    "With this we can now calculate both his Field goal percentage and his field goal percentage. They are 32% for his three point shot and 45% for his field goal percentage. Next we will calculate his effective field goal percent which is an advanced analytical stat. It is calculated by the following formula, (FGM + 0.5 * 3PM) / FGA, with that his effective field goal of 49% which is slightly above average."
   ]
  },
  {
   "cell_type": "markdown",
   "metadata": {},
   "source": [
    "In conclusion with Kawhi this year shows him as an above average offensive weapon and unfortunately defensive stats are not useful for determining his defensive value you know for that NBA year he won the NBA Finals MVP for his defense on LeBron James and was considered an elite defense player so while it does not show how great he has become we can see the beginning of the greatness that is the Klaw.  A question I would like to look at further is his secondary assists value and more of his defensive presences as more advanced stats are not publically available but help portray defense numerically better such as DRP and %OFG"
   ]
  },
  {
   "cell_type": "markdown",
   "metadata": {},
   "source": [
    "## Second Question: Klay Thompson,  3 and D"
   ]
  },
  {
   "cell_type": "markdown",
   "metadata": {},
   "source": [
    "Klay has a become a key piece to the Golden State warriors but does have a reputation as another great defender who is also the perfect example of a 3 and D player with no ball handling skills we are going to test that and see what we find out. We will also look at how often he dribbles the ball which would show him as a spot up shooter, a look at his field goal percentage and finally a look at his shooting in the fourth quarter to see if he steps up when it matters. I believe that this will show him as clutch performer who is the perfect spot up shooter."
   ]
  },
  {
   "cell_type": "code",
   "execution_count": 13,
   "metadata": {
    "collapsed": false
   },
   "outputs": [
    {
     "data": {
      "text/plain": [
       "<matplotlib.text.Text at 0x75ea9f0>"
      ]
     },
     "execution_count": 13,
     "metadata": {},
     "output_type": "execute_result"
    },
    {
     "data": {
      "image/png": "[encoded data removed]",
      "text/plain": [
       "<matplotlib.figure.Figure at 0x758f070>"
      ]
     },
     "metadata": {},
     "output_type": "display_data"
    }
   ],
   "source": [
    "plt.hist(Klaydf['DRIBBLES'])\n",
    "plt.xlabel('Number of Dribbles')\n",
    "plt.ylabel('Frequency of Shot')"
   ]
  },
  {
   "cell_type": "markdown",
   "metadata": {},
   "source": [
    "Klay like Kawhi as well doesn't dribble much when he shoots and does the majority of his shots as a catch and shoot player, let's map this distance to see if he is just a three point shooter."
   ]
  },
  {
   "cell_type": "code",
   "execution_count": 14,
   "metadata": {
    "collapsed": false
   },
   "outputs": [
    {
     "data": {
      "text/html": [
       "<div>\n",
       "<table border=\"1\" class=\"dataframe\">\n",
       "  <thead>\n",
       "    <tr style=\"text-align: right;\">\n",
       "      <th></th>\n",
       "      <th>SHOT_NUMBER</th>\n",
       "      <th>PERIOD</th>\n",
       "      <th>GAME_CLOCK</th>\n",
       "      <th>SHOT_CLOCK</th>\n",
       "      <th>DRIBBLES</th>\n",
       "      <th>TOUCH_TIME</th>\n",
       "      <th>SHOT_DIST</th>\n",
       "      <th>PTS_TYPE</th>\n",
       "      <th>CLOSEST_DEFENDER</th>\n",
       "      <th>CLOSEST_DEFENDER_PLAYER_ID</th>\n",
       "      <th>CLOSE_DEF_DIST</th>\n",
       "      <th>FGM</th>\n",
       "      <th>PTS</th>\n",
       "      <th>player_name</th>\n",
       "      <th>player_id</th>\n",
       "    </tr>\n",
       "    <tr>\n",
       "      <th>SHOT_RESULT</th>\n",
       "      <th></th>\n",
       "      <th></th>\n",
       "      <th></th>\n",
       "      <th></th>\n",
       "      <th></th>\n",
       "      <th></th>\n",
       "      <th></th>\n",
       "      <th></th>\n",
       "      <th></th>\n",
       "      <th></th>\n",
       "      <th></th>\n",
       "      <th></th>\n",
       "      <th></th>\n",
       "      <th></th>\n",
       "      <th></th>\n",
       "    </tr>\n",
       "  </thead>\n",
       "  <tbody>\n",
       "    <tr>\n",
       "      <th>made</th>\n",
       "      <td>177</td>\n",
       "      <td>177</td>\n",
       "      <td>177</td>\n",
       "      <td>173</td>\n",
       "      <td>177</td>\n",
       "      <td>177</td>\n",
       "      <td>177</td>\n",
       "      <td>177</td>\n",
       "      <td>177</td>\n",
       "      <td>177</td>\n",
       "      <td>177</td>\n",
       "      <td>177</td>\n",
       "      <td>177</td>\n",
       "      <td>177</td>\n",
       "      <td>177</td>\n",
       "    </tr>\n",
       "    <tr>\n",
       "      <th>missed</th>\n",
       "      <td>230</td>\n",
       "      <td>230</td>\n",
       "      <td>230</td>\n",
       "      <td>223</td>\n",
       "      <td>230</td>\n",
       "      <td>230</td>\n",
       "      <td>230</td>\n",
       "      <td>230</td>\n",
       "      <td>230</td>\n",
       "      <td>230</td>\n",
       "      <td>230</td>\n",
       "      <td>230</td>\n",
       "      <td>230</td>\n",
       "      <td>230</td>\n",
       "      <td>230</td>\n",
       "    </tr>\n",
       "  </tbody>\n",
       "</table>\n",
       "</div>"
      ],
      "text/plain": [
       "             SHOT_NUMBER  PERIOD  GAME_CLOCK  SHOT_CLOCK  DRIBBLES  \\\n",
       "SHOT_RESULT                                                          \n",
       "made                 177     177         177         173       177   \n",
       "missed               230     230         230         223       230   \n",
       "\n",
       "             TOUCH_TIME  SHOT_DIST  PTS_TYPE  CLOSEST_DEFENDER  \\\n",
       "SHOT_RESULT                                                      \n",
       "made                177        177       177               177   \n",
       "missed              230        230       230               230   \n",
       "\n",
       "             CLOSEST_DEFENDER_PLAYER_ID  CLOSE_DEF_DIST  FGM  PTS  \\\n",
       "SHOT_RESULT                                                         \n",
       "made                                177             177  177  177   \n",
       "missed                              230             230  230  230   \n",
       "\n",
       "             player_name  player_id  \n",
       "SHOT_RESULT                          \n",
       "made                 177        177  \n",
       "missed               230        230  "
      ]
     },
     "execution_count": 14,
     "metadata": {},
     "output_type": "execute_result"
    }
   ],
   "source": [
    "threeKlaydf = Klaydf[Klaydf.PTS_TYPE == 3]\n",
    "twoKlaydf = Klaydf[Klaydf.PTS_TYPE == 2]\n",
    "threeKlaydf.groupby('SHOT_RESULT').count()"
   ]
  },
  {
   "cell_type": "code",
   "execution_count": 15,
   "metadata": {
    "collapsed": false
   },
   "outputs": [
    {
     "data": {
      "text/html": [
       "<div>\n",
       "<table border=\"1\" class=\"dataframe\">\n",
       "  <thead>\n",
       "    <tr style=\"text-align: right;\">\n",
       "      <th></th>\n",
       "      <th>SHOT_NUMBER</th>\n",
       "      <th>PERIOD</th>\n",
       "      <th>GAME_CLOCK</th>\n",
       "      <th>SHOT_CLOCK</th>\n",
       "      <th>DRIBBLES</th>\n",
       "      <th>TOUCH_TIME</th>\n",
       "      <th>SHOT_DIST</th>\n",
       "      <th>PTS_TYPE</th>\n",
       "      <th>CLOSEST_DEFENDER</th>\n",
       "      <th>CLOSEST_DEFENDER_PLAYER_ID</th>\n",
       "      <th>CLOSE_DEF_DIST</th>\n",
       "      <th>FGM</th>\n",
       "      <th>PTS</th>\n",
       "      <th>player_name</th>\n",
       "      <th>player_id</th>\n",
       "    </tr>\n",
       "    <tr>\n",
       "      <th>SHOT_RESULT</th>\n",
       "      <th></th>\n",
       "      <th></th>\n",
       "      <th></th>\n",
       "      <th></th>\n",
       "      <th></th>\n",
       "      <th></th>\n",
       "      <th></th>\n",
       "      <th></th>\n",
       "      <th></th>\n",
       "      <th></th>\n",
       "      <th></th>\n",
       "      <th></th>\n",
       "      <th></th>\n",
       "      <th></th>\n",
       "      <th></th>\n",
       "    </tr>\n",
       "  </thead>\n",
       "  <tbody>\n",
       "    <tr>\n",
       "      <th>made</th>\n",
       "      <td>449</td>\n",
       "      <td>449</td>\n",
       "      <td>449</td>\n",
       "      <td>442</td>\n",
       "      <td>449</td>\n",
       "      <td>449</td>\n",
       "      <td>449</td>\n",
       "      <td>449</td>\n",
       "      <td>449</td>\n",
       "      <td>449</td>\n",
       "      <td>449</td>\n",
       "      <td>449</td>\n",
       "      <td>449</td>\n",
       "      <td>449</td>\n",
       "      <td>449</td>\n",
       "    </tr>\n",
       "    <tr>\n",
       "      <th>missed</th>\n",
       "      <td>522</td>\n",
       "      <td>522</td>\n",
       "      <td>522</td>\n",
       "      <td>511</td>\n",
       "      <td>522</td>\n",
       "      <td>522</td>\n",
       "      <td>522</td>\n",
       "      <td>522</td>\n",
       "      <td>522</td>\n",
       "      <td>522</td>\n",
       "      <td>522</td>\n",
       "      <td>522</td>\n",
       "      <td>522</td>\n",
       "      <td>522</td>\n",
       "      <td>522</td>\n",
       "    </tr>\n",
       "  </tbody>\n",
       "</table>\n",
       "</div>"
      ],
      "text/plain": [
       "             SHOT_NUMBER  PERIOD  GAME_CLOCK  SHOT_CLOCK  DRIBBLES  \\\n",
       "SHOT_RESULT                                                          \n",
       "made                 449     449         449         442       449   \n",
       "missed               522     522         522         511       522   \n",
       "\n",
       "             TOUCH_TIME  SHOT_DIST  PTS_TYPE  CLOSEST_DEFENDER  \\\n",
       "SHOT_RESULT                                                      \n",
       "made                449        449       449               449   \n",
       "missed              522        522       522               522   \n",
       "\n",
       "             CLOSEST_DEFENDER_PLAYER_ID  CLOSE_DEF_DIST  FGM  PTS  \\\n",
       "SHOT_RESULT                                                         \n",
       "made                                449             449  449  449   \n",
       "missed                              522             522  522  522   \n",
       "\n",
       "             player_name  player_id  \n",
       "SHOT_RESULT                          \n",
       "made                 449        449  \n",
       "missed               522        522  "
      ]
     },
     "execution_count": 15,
     "metadata": {},
     "output_type": "execute_result"
    }
   ],
   "source": [
    "Klaydf.groupby('SHOT_RESULT').count()"
   ]
  },
  {
   "cell_type": "markdown",
   "metadata": {},
   "source": [
    "Again similar to Kawhi he has above shooting numbers which is expected of a sharpshooter like him with his three point percentage being 43% and his field goal being a 46% field goal percentage. His effective percentage would be 58% which is great. However this doesn't effectively test this claim if he is just a three and D player, to do that we will test to see the distance he is away from the shots, meaning if he takes most of his shots at the Key and 3 then he is most likely a three and D player."
   ]
  },
  {
   "cell_type": "code",
   "execution_count": 16,
   "metadata": {
    "collapsed": false
   },
   "outputs": [
    {
     "data": {
      "text/plain": [
       "<matplotlib.text.Text at 0x7cc63b0>"
      ]
     },
     "execution_count": 16,
     "metadata": {},
     "output_type": "execute_result"
    },
    {
     "data": {
      "image/png": "[encoded data removed]",
      "text/plain": [
       "<matplotlib.figure.Figure at 0x7c8df90>"
      ]
     },
     "metadata": {},
     "output_type": "display_data"
    }
   ],
   "source": [
    "farKlaydf = Klaydf[Klaydf.SHOT_DIST > 22]\n",
    "plt.hist(farKlaydf['DRIBBLES'])\n",
    "plt.xlabel('Number of Dribbles')\n",
    "plt.ylabel('Amount of Shots')"
   ]
  },
  {
   "cell_type": "code",
   "execution_count": 17,
   "metadata": {
    "collapsed": false
   },
   "outputs": [
    {
     "data": {
      "text/plain": [
       "<matplotlib.text.Text at 0x7598b70>"
      ]
     },
     "execution_count": 17,
     "metadata": {},
     "output_type": "execute_result"
    },
    {
     "data": {
      "image/png": "[encoded data removed]",
      "text/plain": [
       "<matplotlib.figure.Figure at 0x7bfaed0>"
      ]
     },
     "metadata": {},
     "output_type": "display_data"
    }
   ],
   "source": [
    "farKlaydf = Klaydf[Klaydf.SHOT_DIST > 22]\n",
    "plt.hist(farKlaydf['TOUCH_TIME'])\n",
    "plt.xlabel('Time Holding the Ball')\n",
    "plt.ylabel('Amount of Shots')"
   ]
  },
  {
   "cell_type": "markdown",
   "metadata": {},
   "source": [
    "This graph shows that when he is at the 3 point line and catches the ball he most of the time will quickly take the shot. This supports the idea that he is just superstar 3 and D player; let’s next look at his shooting in the fourth quarter."
   ]
  },
  {
   "cell_type": "code",
   "execution_count": 18,
   "metadata": {
    "collapsed": false
   },
   "outputs": [
    {
     "data": {
      "text/html": [
       "<div>\n",
       "<table border=\"1\" class=\"dataframe\">\n",
       "  <thead>\n",
       "    <tr style=\"text-align: right;\">\n",
       "      <th></th>\n",
       "      <th>SHOT_NUMBER</th>\n",
       "      <th>PERIOD</th>\n",
       "      <th>GAME_CLOCK</th>\n",
       "      <th>SHOT_CLOCK</th>\n",
       "      <th>DRIBBLES</th>\n",
       "      <th>TOUCH_TIME</th>\n",
       "      <th>SHOT_DIST</th>\n",
       "      <th>PTS_TYPE</th>\n",
       "      <th>CLOSEST_DEFENDER</th>\n",
       "      <th>CLOSEST_DEFENDER_PLAYER_ID</th>\n",
       "      <th>CLOSE_DEF_DIST</th>\n",
       "      <th>FGM</th>\n",
       "      <th>PTS</th>\n",
       "      <th>player_name</th>\n",
       "      <th>player_id</th>\n",
       "    </tr>\n",
       "    <tr>\n",
       "      <th>SHOT_RESULT</th>\n",
       "      <th></th>\n",
       "      <th></th>\n",
       "      <th></th>\n",
       "      <th></th>\n",
       "      <th></th>\n",
       "      <th></th>\n",
       "      <th></th>\n",
       "      <th></th>\n",
       "      <th></th>\n",
       "      <th></th>\n",
       "      <th></th>\n",
       "      <th></th>\n",
       "      <th></th>\n",
       "      <th></th>\n",
       "      <th></th>\n",
       "    </tr>\n",
       "  </thead>\n",
       "  <tbody>\n",
       "    <tr>\n",
       "      <th>made</th>\n",
       "      <td>68</td>\n",
       "      <td>68</td>\n",
       "      <td>68</td>\n",
       "      <td>67</td>\n",
       "      <td>68</td>\n",
       "      <td>68</td>\n",
       "      <td>68</td>\n",
       "      <td>68</td>\n",
       "      <td>68</td>\n",
       "      <td>68</td>\n",
       "      <td>68</td>\n",
       "      <td>68</td>\n",
       "      <td>68</td>\n",
       "      <td>68</td>\n",
       "      <td>68</td>\n",
       "    </tr>\n",
       "    <tr>\n",
       "      <th>missed</th>\n",
       "      <td>107</td>\n",
       "      <td>107</td>\n",
       "      <td>107</td>\n",
       "      <td>105</td>\n",
       "      <td>107</td>\n",
       "      <td>107</td>\n",
       "      <td>107</td>\n",
       "      <td>107</td>\n",
       "      <td>107</td>\n",
       "      <td>107</td>\n",
       "      <td>107</td>\n",
       "      <td>107</td>\n",
       "      <td>107</td>\n",
       "      <td>107</td>\n",
       "      <td>107</td>\n",
       "    </tr>\n",
       "  </tbody>\n",
       "</table>\n",
       "</div>"
      ],
      "text/plain": [
       "             SHOT_NUMBER  PERIOD  GAME_CLOCK  SHOT_CLOCK  DRIBBLES  \\\n",
       "SHOT_RESULT                                                          \n",
       "made                  68      68          68          67        68   \n",
       "missed               107     107         107         105       107   \n",
       "\n",
       "             TOUCH_TIME  SHOT_DIST  PTS_TYPE  CLOSEST_DEFENDER  \\\n",
       "SHOT_RESULT                                                      \n",
       "made                 68         68        68                68   \n",
       "missed              107        107       107               107   \n",
       "\n",
       "             CLOSEST_DEFENDER_PLAYER_ID  CLOSE_DEF_DIST  FGM  PTS  \\\n",
       "SHOT_RESULT                                                         \n",
       "made                                 68              68   68   68   \n",
       "missed                              107             107  107  107   \n",
       "\n",
       "             player_name  player_id  \n",
       "SHOT_RESULT                          \n",
       "made                  68         68  \n",
       "missed               107        107  "
      ]
     },
     "execution_count": 18,
     "metadata": {},
     "output_type": "execute_result"
    }
   ],
   "source": [
    "CKlaydf = Klaydf[Klaydf.PERIOD == 4]\n",
    "CKlaydf.groupby('SHOT_RESULT').count()"
   ]
  },
  {
   "cell_type": "markdown",
   "metadata": {},
   "source": [
    "Here we can see that his field goal percentage drops down to 38% which would show that he is not better in the fourth quarter, but overall it would seem that he is the best example of a 3 and D player. So in conclusion he is a spot up shooter that doesn't hold the ball much but surprisingly he doesn't show up in the fourth quarter compared to his normal self. Some advanced stuff I would like to look for in Klay would be his primary verus his secondary shot selection meaning that was he passed the ball to once or multiple times before shooting."
   ]
  },
  {
   "cell_type": "markdown",
   "metadata": {},
   "source": [
    "## Carmelo Anthony, is he another Ewing?"
   ]
  },
  {
   "cell_type": "markdown",
   "metadata": {
    "collapsed": true
   },
   "source": [
    "Carmelo Anthony is the star player for the New York Knicks which is the most profitable franchise in the NBA, However he draws a lot of criticism from the media and from his own teammates and coaches for being a ball hog and shooting ineffective shots we shall see if that is the case. We will look at how much he dribbles the ball, how long he holds the ball for and when he shoots it and from where with a defender near him, along with his field goal percentage. I believe Carmelo holds the ball for too long with a defender near him along with taking a lot of midrange shots which analytics people don't like."
   ]
  },
  {
   "cell_type": "code",
   "execution_count": 19,
   "metadata": {
    "collapsed": false
   },
   "outputs": [
    {
     "data": {
      "text/plain": [
       "<matplotlib.text.Text at 0x7c12f50>"
      ]
     },
     "execution_count": 19,
     "metadata": {},
     "output_type": "execute_result"
    },
    {
     "data": {
      "image/png": "[encoded data removed]",
      "text/plain": [
       "<matplotlib.figure.Figure at 0x7c95e50>"
      ]
     },
     "metadata": {},
     "output_type": "display_data"
    }
   ],
   "source": [
    "plt.hist(Melodf['DRIBBLES'])\n",
    "plt.xlabel('Number of Dribbles')\n",
    "plt.ylabel('Frequency of Shot')"
   ]
  },
  {
   "cell_type": "markdown",
   "metadata": {},
   "source": [
    "Here we see a similar amount of dribbles to Kawhi which would defeat the claim that he is a ball hog but to confirm that idea let’s look at how long he holds the ball before he shoots and from where, along with if there are defenders near him."
   ]
  },
  {
   "cell_type": "code",
   "execution_count": 20,
   "metadata": {
    "collapsed": false
   },
   "outputs": [
    {
     "data": {
      "text/html": [
       "<div>\n",
       "<table border=\"1\" class=\"dataframe\">\n",
       "  <thead>\n",
       "    <tr style=\"text-align: right;\">\n",
       "      <th></th>\n",
       "      <th>SHOT_NUMBER</th>\n",
       "      <th>PERIOD</th>\n",
       "      <th>GAME_CLOCK</th>\n",
       "      <th>SHOT_CLOCK</th>\n",
       "      <th>DRIBBLES</th>\n",
       "      <th>TOUCH_TIME</th>\n",
       "      <th>SHOT_DIST</th>\n",
       "      <th>PTS_TYPE</th>\n",
       "      <th>CLOSEST_DEFENDER</th>\n",
       "      <th>CLOSEST_DEFENDER_PLAYER_ID</th>\n",
       "      <th>CLOSE_DEF_DIST</th>\n",
       "      <th>FGM</th>\n",
       "      <th>PTS</th>\n",
       "      <th>player_name</th>\n",
       "      <th>player_id</th>\n",
       "    </tr>\n",
       "    <tr>\n",
       "      <th>SHOT_RESULT</th>\n",
       "      <th></th>\n",
       "      <th></th>\n",
       "      <th></th>\n",
       "      <th></th>\n",
       "      <th></th>\n",
       "      <th></th>\n",
       "      <th></th>\n",
       "      <th></th>\n",
       "      <th></th>\n",
       "      <th></th>\n",
       "      <th></th>\n",
       "      <th></th>\n",
       "      <th></th>\n",
       "      <th></th>\n",
       "      <th></th>\n",
       "    </tr>\n",
       "  </thead>\n",
       "  <tbody>\n",
       "    <tr>\n",
       "      <th>made</th>\n",
       "      <td>111</td>\n",
       "      <td>111</td>\n",
       "      <td>111</td>\n",
       "      <td>99</td>\n",
       "      <td>111</td>\n",
       "      <td>111</td>\n",
       "      <td>111</td>\n",
       "      <td>111</td>\n",
       "      <td>111</td>\n",
       "      <td>111</td>\n",
       "      <td>111</td>\n",
       "      <td>111</td>\n",
       "      <td>111</td>\n",
       "      <td>111</td>\n",
       "      <td>111</td>\n",
       "    </tr>\n",
       "    <tr>\n",
       "      <th>missed</th>\n",
       "      <td>175</td>\n",
       "      <td>175</td>\n",
       "      <td>175</td>\n",
       "      <td>159</td>\n",
       "      <td>175</td>\n",
       "      <td>175</td>\n",
       "      <td>175</td>\n",
       "      <td>175</td>\n",
       "      <td>175</td>\n",
       "      <td>175</td>\n",
       "      <td>175</td>\n",
       "      <td>175</td>\n",
       "      <td>175</td>\n",
       "      <td>175</td>\n",
       "      <td>175</td>\n",
       "    </tr>\n",
       "  </tbody>\n",
       "</table>\n",
       "</div>"
      ],
      "text/plain": [
       "             SHOT_NUMBER  PERIOD  GAME_CLOCK  SHOT_CLOCK  DRIBBLES  \\\n",
       "SHOT_RESULT                                                          \n",
       "made                 111     111         111          99       111   \n",
       "missed               175     175         175         159       175   \n",
       "\n",
       "             TOUCH_TIME  SHOT_DIST  PTS_TYPE  CLOSEST_DEFENDER  \\\n",
       "SHOT_RESULT                                                      \n",
       "made                111        111       111               111   \n",
       "missed              175        175       175               175   \n",
       "\n",
       "             CLOSEST_DEFENDER_PLAYER_ID  CLOSE_DEF_DIST  FGM  PTS  \\\n",
       "SHOT_RESULT                                                         \n",
       "made                                111             111  111  111   \n",
       "missed                              175             175  175  175   \n",
       "\n",
       "             player_name  player_id  \n",
       "SHOT_RESULT                          \n",
       "made                 111        111  \n",
       "missed               175        175  "
      ]
     },
     "execution_count": 20,
     "metadata": {},
     "output_type": "execute_result"
    },
    {
     "data": {
      "image/png": "[encoded data removed]",
      "text/plain": [
       "<matplotlib.figure.Figure at 0x7586f70>"
      ]
     },
     "metadata": {},
     "output_type": "display_data"
    }
   ],
   "source": [
    "FMelodf = Melodf[Melodf.DRIBBLES > 1]\n",
    "plt.scatter(x = FMelodf['TOUCH_TIME'], y = FMelodf['SHOT_CLOCK'] )\n",
    "plt.xlabel('Time Holding the Ball')\n",
    "plt.ylabel('Shot Clock')\n",
    "FMelodf.groupby('SHOT_RESULT').count()"
   ]
  },
  {
   "cell_type": "markdown",
   "metadata": {
    "collapsed": true
   },
   "source": [
    "From the table and the graph we can tell that he makes more shots then he misses if he holds the ball but it also clearly shows in the graph that he takes shots with plenty of time left on the shot clock and means that it could not be the best shot for the team so let's see of those shots are good with defenders close by."
   ]
  },
  {
   "cell_type": "code",
   "execution_count": 21,
   "metadata": {
    "collapsed": false
   },
   "outputs": [
    {
     "data": {
      "text/html": [
       "<div>\n",
       "<table border=\"1\" class=\"dataframe\">\n",
       "  <thead>\n",
       "    <tr style=\"text-align: right;\">\n",
       "      <th></th>\n",
       "      <th>SHOT_NUMBER</th>\n",
       "      <th>PERIOD</th>\n",
       "      <th>GAME_CLOCK</th>\n",
       "      <th>SHOT_CLOCK</th>\n",
       "      <th>DRIBBLES</th>\n",
       "      <th>TOUCH_TIME</th>\n",
       "      <th>SHOT_DIST</th>\n",
       "      <th>PTS_TYPE</th>\n",
       "      <th>CLOSEST_DEFENDER</th>\n",
       "      <th>CLOSEST_DEFENDER_PLAYER_ID</th>\n",
       "      <th>CLOSE_DEF_DIST</th>\n",
       "      <th>FGM</th>\n",
       "      <th>PTS</th>\n",
       "      <th>player_name</th>\n",
       "      <th>player_id</th>\n",
       "    </tr>\n",
       "    <tr>\n",
       "      <th>SHOT_RESULT</th>\n",
       "      <th></th>\n",
       "      <th></th>\n",
       "      <th></th>\n",
       "      <th></th>\n",
       "      <th></th>\n",
       "      <th></th>\n",
       "      <th></th>\n",
       "      <th></th>\n",
       "      <th></th>\n",
       "      <th></th>\n",
       "      <th></th>\n",
       "      <th></th>\n",
       "      <th></th>\n",
       "      <th></th>\n",
       "      <th></th>\n",
       "    </tr>\n",
       "  </thead>\n",
       "  <tbody>\n",
       "    <tr>\n",
       "      <th>made</th>\n",
       "      <td>55</td>\n",
       "      <td>55</td>\n",
       "      <td>55</td>\n",
       "      <td>48</td>\n",
       "      <td>55</td>\n",
       "      <td>55</td>\n",
       "      <td>55</td>\n",
       "      <td>55</td>\n",
       "      <td>55</td>\n",
       "      <td>55</td>\n",
       "      <td>55</td>\n",
       "      <td>55</td>\n",
       "      <td>55</td>\n",
       "      <td>55</td>\n",
       "      <td>55</td>\n",
       "    </tr>\n",
       "    <tr>\n",
       "      <th>missed</th>\n",
       "      <td>83</td>\n",
       "      <td>83</td>\n",
       "      <td>83</td>\n",
       "      <td>72</td>\n",
       "      <td>83</td>\n",
       "      <td>83</td>\n",
       "      <td>83</td>\n",
       "      <td>83</td>\n",
       "      <td>83</td>\n",
       "      <td>83</td>\n",
       "      <td>83</td>\n",
       "      <td>83</td>\n",
       "      <td>83</td>\n",
       "      <td>83</td>\n",
       "      <td>83</td>\n",
       "    </tr>\n",
       "  </tbody>\n",
       "</table>\n",
       "</div>"
      ],
      "text/plain": [
       "             SHOT_NUMBER  PERIOD  GAME_CLOCK  SHOT_CLOCK  DRIBBLES  \\\n",
       "SHOT_RESULT                                                          \n",
       "made                  55      55          55          48        55   \n",
       "missed                83      83          83          72        83   \n",
       "\n",
       "             TOUCH_TIME  SHOT_DIST  PTS_TYPE  CLOSEST_DEFENDER  \\\n",
       "SHOT_RESULT                                                      \n",
       "made                 55         55        55                55   \n",
       "missed               83         83        83                83   \n",
       "\n",
       "             CLOSEST_DEFENDER_PLAYER_ID  CLOSE_DEF_DIST  FGM  PTS  \\\n",
       "SHOT_RESULT                                                         \n",
       "made                                 55              55   55   55   \n",
       "missed                               83              83   83   83   \n",
       "\n",
       "             player_name  player_id  \n",
       "SHOT_RESULT                          \n",
       "made                  55         55  \n",
       "missed                83         83  "
      ]
     },
     "execution_count": 21,
     "metadata": {},
     "output_type": "execute_result"
    },
    {
     "data": {
      "image/png": "[encoded data removed]",
      "text/plain": [
       "<matplotlib.figure.Figure at 0x7599af0>"
      ]
     },
     "metadata": {},
     "output_type": "display_data"
    }
   ],
   "source": [
    "DFMelodf = FMelodf[FMelodf.CLOSE_DEF_DIST < 3]\n",
    "plt.scatter(x = DFMelodf['TOUCH_TIME'], y = DFMelodf['SHOT_CLOCK'] )\n",
    "plt.xlabel('Time Holding the Ball')\n",
    "plt.ylabel('Shot Clock')\n",
    "DFMelodf.groupby('SHOT_RESULT').count()"
   ]
  },
  {
   "cell_type": "markdown",
   "metadata": {},
   "source": [
    "Now we see a different story. Next let's see the distance of these shots."
   ]
  },
  {
   "cell_type": "code",
   "execution_count": 22,
   "metadata": {
    "collapsed": false
   },
   "outputs": [
    {
     "data": {
      "text/plain": [
       "<matplotlib.text.Text at 0x7e06bf0>"
      ]
     },
     "execution_count": 22,
     "metadata": {},
     "output_type": "execute_result"
    },
    {
     "data": {
      "image/png": "[encoded data removed]",
      "text/plain": [
       "<matplotlib.figure.Figure at 0x7e772d0>"
      ]
     },
     "metadata": {},
     "output_type": "display_data"
    }
   ],
   "source": [
    "plt.scatter(x = DFMelodf['SHOT_DIST'], y = DFMelodf['SHOT_CLOCK'] )\n",
    "plt.xlabel('Shot Distance')\n",
    "plt.ylabel('Shot Clock')"
   ]
  },
  {
   "cell_type": "markdown",
   "metadata": {},
   "source": [
    "Here we see that he shoots a majority of his shots are within 15 feet and a plurality coming within 5 feet, let's see if the midrange shots, between 3-15 feet he is holding onto the ball for an abnormal amount of time."
   ]
  },
  {
   "cell_type": "code",
   "execution_count": 23,
   "metadata": {
    "collapsed": false
   },
   "outputs": [
    {
     "data": {
      "text/plain": [
       "<matplotlib.text.Text at 0x7f05850>"
      ]
     },
     "execution_count": 23,
     "metadata": {},
     "output_type": "execute_result"
    },
    {
     "data": {
      "image/png": "[encoded data removed]",
      "text/plain": [
       "<matplotlib.figure.Figure at 0x79de6d0>"
      ]
     },
     "metadata": {},
     "output_type": "display_data"
    }
   ],
   "source": [
    "MdMelodf = DFMelodf[DFMelodf.SHOT_DIST > 3]\n",
    "MidMelodf = MdMelodf[MdMelodf.SHOT_DIST < 16]\n",
    "plt.scatter(x = MidMelodf['TOUCH_TIME'], y = MidMelodf['SHOT_CLOCK'] )\n",
    "plt.xlabel('Time Holding the Ball')\n",
    "plt.ylabel('Shot Clock')"
   ]
  },
  {
   "cell_type": "markdown",
   "metadata": {},
   "source": [
    "As the graph shows he takes these midrange shots while being closly defended while holding onto the ball for a long time and looks like with plenty of time left on the shot clock which stagnates an offense so it is not the best idea for him to be passed to. Next we will look at his field goal percentage."
   ]
  },
  {
   "cell_type": "code",
   "execution_count": 24,
   "metadata": {
    "collapsed": false
   },
   "outputs": [
    {
     "data": {
      "text/html": [
       "<div>\n",
       "<table border=\"1\" class=\"dataframe\">\n",
       "  <thead>\n",
       "    <tr style=\"text-align: right;\">\n",
       "      <th></th>\n",
       "      <th>SHOT_NUMBER</th>\n",
       "      <th>PERIOD</th>\n",
       "      <th>GAME_CLOCK</th>\n",
       "      <th>SHOT_CLOCK</th>\n",
       "      <th>DRIBBLES</th>\n",
       "      <th>TOUCH_TIME</th>\n",
       "      <th>SHOT_DIST</th>\n",
       "      <th>PTS_TYPE</th>\n",
       "      <th>CLOSEST_DEFENDER</th>\n",
       "      <th>CLOSEST_DEFENDER_PLAYER_ID</th>\n",
       "      <th>CLOSE_DEF_DIST</th>\n",
       "      <th>FGM</th>\n",
       "      <th>PTS</th>\n",
       "      <th>player_name</th>\n",
       "      <th>player_id</th>\n",
       "    </tr>\n",
       "    <tr>\n",
       "      <th>SHOT_RESULT</th>\n",
       "      <th></th>\n",
       "      <th></th>\n",
       "      <th></th>\n",
       "      <th></th>\n",
       "      <th></th>\n",
       "      <th></th>\n",
       "      <th></th>\n",
       "      <th></th>\n",
       "      <th></th>\n",
       "      <th></th>\n",
       "      <th></th>\n",
       "      <th></th>\n",
       "      <th></th>\n",
       "      <th></th>\n",
       "      <th></th>\n",
       "    </tr>\n",
       "  </thead>\n",
       "  <tbody>\n",
       "    <tr>\n",
       "      <th>made</th>\n",
       "      <td>60</td>\n",
       "      <td>60</td>\n",
       "      <td>60</td>\n",
       "      <td>56</td>\n",
       "      <td>60</td>\n",
       "      <td>60</td>\n",
       "      <td>60</td>\n",
       "      <td>60</td>\n",
       "      <td>60</td>\n",
       "      <td>60</td>\n",
       "      <td>60</td>\n",
       "      <td>60</td>\n",
       "      <td>60</td>\n",
       "      <td>60</td>\n",
       "      <td>60</td>\n",
       "    </tr>\n",
       "    <tr>\n",
       "      <th>missed</th>\n",
       "      <td>116</td>\n",
       "      <td>116</td>\n",
       "      <td>116</td>\n",
       "      <td>101</td>\n",
       "      <td>116</td>\n",
       "      <td>116</td>\n",
       "      <td>116</td>\n",
       "      <td>116</td>\n",
       "      <td>116</td>\n",
       "      <td>116</td>\n",
       "      <td>116</td>\n",
       "      <td>116</td>\n",
       "      <td>116</td>\n",
       "      <td>116</td>\n",
       "      <td>116</td>\n",
       "    </tr>\n",
       "  </tbody>\n",
       "</table>\n",
       "</div>"
      ],
      "text/plain": [
       "             SHOT_NUMBER  PERIOD  GAME_CLOCK  SHOT_CLOCK  DRIBBLES  \\\n",
       "SHOT_RESULT                                                          \n",
       "made                  60      60          60          56        60   \n",
       "missed               116     116         116         101       116   \n",
       "\n",
       "             TOUCH_TIME  SHOT_DIST  PTS_TYPE  CLOSEST_DEFENDER  \\\n",
       "SHOT_RESULT                                                      \n",
       "made                 60         60        60                60   \n",
       "missed              116        116       116               116   \n",
       "\n",
       "             CLOSEST_DEFENDER_PLAYER_ID  CLOSE_DEF_DIST  FGM  PTS  \\\n",
       "SHOT_RESULT                                                         \n",
       "made                                 60              60   60   60   \n",
       "missed                              116             116  116  116   \n",
       "\n",
       "             player_name  player_id  \n",
       "SHOT_RESULT                          \n",
       "made                  60         60  \n",
       "missed               116        116  "
      ]
     },
     "execution_count": 24,
     "metadata": {},
     "output_type": "execute_result"
    }
   ],
   "source": [
    "threeMelodf = Melodf[Melodf.PTS_TYPE == 3]\n",
    "twoMelodf = Melodf[Melodf.PTS_TYPE == 2]\n",
    "threeMelodf.groupby('SHOT_RESULT').count()"
   ]
  },
  {
   "cell_type": "code",
   "execution_count": 25,
   "metadata": {
    "collapsed": false
   },
   "outputs": [
    {
     "data": {
      "text/html": [
       "<div>\n",
       "<table border=\"1\" class=\"dataframe\">\n",
       "  <thead>\n",
       "    <tr style=\"text-align: right;\">\n",
       "      <th></th>\n",
       "      <th>SHOT_NUMBER</th>\n",
       "      <th>PERIOD</th>\n",
       "      <th>GAME_CLOCK</th>\n",
       "      <th>SHOT_CLOCK</th>\n",
       "      <th>DRIBBLES</th>\n",
       "      <th>TOUCH_TIME</th>\n",
       "      <th>SHOT_DIST</th>\n",
       "      <th>PTS_TYPE</th>\n",
       "      <th>CLOSEST_DEFENDER</th>\n",
       "      <th>CLOSEST_DEFENDER_PLAYER_ID</th>\n",
       "      <th>CLOSE_DEF_DIST</th>\n",
       "      <th>FGM</th>\n",
       "      <th>PTS</th>\n",
       "      <th>player_name</th>\n",
       "      <th>player_id</th>\n",
       "    </tr>\n",
       "    <tr>\n",
       "      <th>SHOT_RESULT</th>\n",
       "      <th></th>\n",
       "      <th></th>\n",
       "      <th></th>\n",
       "      <th></th>\n",
       "      <th></th>\n",
       "      <th></th>\n",
       "      <th></th>\n",
       "      <th></th>\n",
       "      <th></th>\n",
       "      <th></th>\n",
       "      <th></th>\n",
       "      <th></th>\n",
       "      <th></th>\n",
       "      <th></th>\n",
       "      <th></th>\n",
       "    </tr>\n",
       "  </thead>\n",
       "  <tbody>\n",
       "    <tr>\n",
       "      <th>made</th>\n",
       "      <td>349</td>\n",
       "      <td>349</td>\n",
       "      <td>349</td>\n",
       "      <td>331</td>\n",
       "      <td>349</td>\n",
       "      <td>349</td>\n",
       "      <td>349</td>\n",
       "      <td>349</td>\n",
       "      <td>349</td>\n",
       "      <td>349</td>\n",
       "      <td>349</td>\n",
       "      <td>349</td>\n",
       "      <td>349</td>\n",
       "      <td>349</td>\n",
       "      <td>349</td>\n",
       "    </tr>\n",
       "    <tr>\n",
       "      <th>missed</th>\n",
       "      <td>443</td>\n",
       "      <td>443</td>\n",
       "      <td>443</td>\n",
       "      <td>415</td>\n",
       "      <td>443</td>\n",
       "      <td>443</td>\n",
       "      <td>443</td>\n",
       "      <td>443</td>\n",
       "      <td>443</td>\n",
       "      <td>443</td>\n",
       "      <td>443</td>\n",
       "      <td>443</td>\n",
       "      <td>443</td>\n",
       "      <td>443</td>\n",
       "      <td>443</td>\n",
       "    </tr>\n",
       "  </tbody>\n",
       "</table>\n",
       "</div>"
      ],
      "text/plain": [
       "             SHOT_NUMBER  PERIOD  GAME_CLOCK  SHOT_CLOCK  DRIBBLES  \\\n",
       "SHOT_RESULT                                                          \n",
       "made                 349     349         349         331       349   \n",
       "missed               443     443         443         415       443   \n",
       "\n",
       "             TOUCH_TIME  SHOT_DIST  PTS_TYPE  CLOSEST_DEFENDER  \\\n",
       "SHOT_RESULT                                                      \n",
       "made                349        349       349               349   \n",
       "missed              443        443       443               443   \n",
       "\n",
       "             CLOSEST_DEFENDER_PLAYER_ID  CLOSE_DEF_DIST  FGM  PTS  \\\n",
       "SHOT_RESULT                                                         \n",
       "made                                349             349  349  349   \n",
       "missed                              443             443  443  443   \n",
       "\n",
       "             player_name  player_id  \n",
       "SHOT_RESULT                          \n",
       "made                 349        349  \n",
       "missed               443        443  "
      ]
     },
     "execution_count": 25,
     "metadata": {},
     "output_type": "execute_result"
    }
   ],
   "source": [
    "Melodf.groupby('SHOT_RESULT').count()"
   ]
  },
  {
   "cell_type": "markdown",
   "metadata": {
    "collapsed": true
   },
   "source": [
    "We can see that Carmelo shoots a lot more twos then threes his three point field goal percentage is 34% which is below average but he doesn't take too many of those whilst his field goal percentage is 44% which is good and his effective field goal percentage is 47% which is not good. Overall we found out that he is a large volume shooter that takes a lot of guarded midrange shoots while shooting a high percentage but suffocates the offense by holding the ball too much and then shooting when there is still plenty of time left on the clock. For Carmelo I would like to look further into his other stats such as rebounding and assists to see if he contributes in other ways other than scoring."
   ]
  },
  {
   "cell_type": "markdown",
   "metadata": {},
   "source": [
    "## Conclusion "
   ]
  },
  {
   "cell_type": "markdown",
   "metadata": {},
   "source": [
    "Overall we looked at three different players in the NBA Kawhi Leonard, where we found out that although he gets plenty of open looks from the system he is in his defense and his ability to make those shots at a very high rate help to define how great of a player he is, Next we looked at Klay Thompson who is a great example of a three and D player that seems to not be able to rise up in the fourth, and finally we looked at Carmelo Anthony a mid range shooter that holds onto the ball and may shoot a high percentage but doesn't shoot effectively."
   ]
  }
 ],
 "metadata": {
  "kernelspec": {
   "display_name": "Python 3",
   "language": "python",
   "name": "python3"
  },
  "language_info": {
   "codemirror_mode": {
    "name": "ipython",
    "version": 3
   },
   "file_extension": ".py",
   "mimetype": "text/x-python",
   "name": "python",
   "nbconvert_exporter": "python",
   "pygments_lexer": "ipython3",
   "version": "3.6.0"
  }
 },
 "nbformat": 4,
 "nbformat_minor": 2
}
